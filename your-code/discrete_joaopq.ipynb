{
 "cells": [
  {
   "cell_type": "markdown",
   "metadata": {},
   "source": [
    "# Before your start:\n",
    "\n",
    "    Read the README.md file\n",
    "    Comment as much as you can and use the resources (README.md file)\n",
    "    Happy learning!\n",
    "\n",
    "*Notes:* \n",
    "\n",
    "- Solve the questions with python.\n",
    "\n",
    "- Round the final answer to three decimal places."
   ]
  },
  {
   "cell_type": "markdown",
   "metadata": {},
   "source": [
    "## Bernoulli's Distribution\n",
    "\n",
    "In a basket containing 100 fruits, there are 60 apples and 40 oranges. \n",
    "\n",
    "A fruit is picked randomly from the basket. \n",
    "\n",
    "1. **What is the probability that the fruit is apple?**\n",
    "1. **What is the probability that it is an orange?**"
   ]
  },
  {
   "cell_type": "code",
   "execution_count": 1,
   "metadata": {},
   "outputs": [
    {
     "name": "stdout",
     "output_type": "stream",
     "text": [
      " For 100 fruits, the prob of an apple is 0.65\n",
      " For 100 fruits, the prob of an apple is 0.65\n"
     ]
    }
   ],
   "source": [
    "\"\"\"\n",
    "Calculate:\n",
    "p = probability that the fruit is an apple \n",
    "q = probability that the fruit is an orange\n",
    "\"\"\"\n",
    "from scipy.stats import bernoulli #importing required libraries\n",
    "import numpy as np\n",
    "import pandas as pd\n",
    "\n",
    "p=60/100\n",
    "q=40/100\n",
    "\n",
    "variates_apple=bernoulli.rvs(p=60/100, size=100)  #computing bernoulli variates for the apple\n",
    "p_apple=sum(variates_apple)/len(variates_apple) #computing apple prob thru bernoulli's distr.\n",
    "print(f\" For 100 fruits, the prob of an apple is {p_apple}\")\n",
    "\n",
    "variates_orange=bernoulli.rvs(p=40/100, size=100)  #computing bernoulli variates for the orange\n",
    "p_orange=sum(variates_apple)/len(variates_orange) #computing orange prob thru bernoulli's distr.\n",
    "print(f\" For 100 fruits, the prob of an apple is {p_orange}\")"
   ]
  },
  {
   "cell_type": "markdown",
   "metadata": {},
   "source": [
    "Now we take a random sample of 20 fruits from the basket. After each fruit is taken, a new fruit of the same type is replaced in the basket. Therefore, every time we are taking 1 fruit from 100 fruits. \n",
    "\n",
    "1. **What is the probability that the first 5 fruits are all apples?**\n",
    "\n",
    "1. **What is the probability that the first 5 fruits are all apples and the next 15 fruits are all oranges?**\n",
    "\n",
    "You can include the `p` and `q` probabilities you previous calculated in your solution."
   ]
  },
  {
   "cell_type": "code",
   "execution_count": 2,
   "metadata": {},
   "outputs": [
    {
     "name": "stdout",
     "output_type": "stream",
     "text": [
      "q1: 0.078\n",
      "q2: 0.0\n"
     ]
    }
   ],
   "source": [
    "# your code here\n",
    "\n",
    "q1_p=round(p**5,3)  #for question 1, it'll be the equivalente of powering the prob of apples 5x\n",
    "print(f\"q1: {q1_p}\")\n",
    "\n",
    "q2_p=round(q1_p*q**15,3) #for question 2, it'll be the equivalente of powering the prob of apples 5x * powering prob oranges 15x\n",
    "print(f\"q2: {q2_p}\")"
   ]
  },
  {
   "cell_type": "markdown",
   "metadata": {},
   "source": [
    "## Binomial Distribution\n",
    "\n",
    "Similar to the above problem, this time again we randomly sample 20 fruits.\n",
    "\n",
    "**What is the probability that this time the sample contains 5 apples and 15 oranges?**\n",
    "\n",
    "Please note that this time the order of the fruits being picked does not matter."
   ]
  },
  {
   "cell_type": "code",
   "execution_count": 3,
   "metadata": {},
   "outputs": [
    {
     "name": "stdout",
     "output_type": "stream",
     "text": [
      "Rounding to 3, the prob is: 0.0.\n"
     ]
    }
   ],
   "source": [
    "# your code here\n",
    "import scipy.stats as stats\n",
    "\n",
    "from scipy.stats import binom\n",
    "\n",
    "n=20 #sample size.\n",
    "p=60/100 #computing prob apple.\n",
    "q=40/100 #computing prob orange.\n",
    "\n",
    "bin_apples=binom(n,p)\n",
    "p_apples=bin_apples.pmf(5)\n",
    "\n",
    "bin_oranges=binom(n,p)\n",
    "p_oranges=bin_oranges.pmf(5)\n",
    "\n",
    "p_final=round(p_oranges*p_apples,3)\n",
    "print(f\"Rounding to 3, the prob is: {p_final}.\")"
   ]
  },
  {
   "cell_type": "markdown",
   "metadata": {},
   "source": [
    "In the lesson we also discussed CDF (cumulative distribution function). In the context of the above problem, **what is the probability that less than 5 fruits picked are apples?**\n",
    "\n",
    "Write the formula and calculate the probability below."
   ]
  },
  {
   "cell_type": "code",
   "execution_count": 4,
   "metadata": {},
   "outputs": [
    {
     "name": "stdout",
     "output_type": "stream",
     "text": [
      "Rounding to 3, the prob is: 0.002.\n"
     ]
    }
   ],
   "source": [
    "# your code here\n",
    "#this can be computed through the cumulative distributed func\n",
    "p_final=round(bin_apples.cdf(5),3)\n",
    "print(f\"Rounding to 3, the prob is: {p_final}.\")"
   ]
  },
  {
   "cell_type": "markdown",
   "metadata": {},
   "source": [
    "**Plot the PDF (probability distributiom function) for the above binomial distribution.**\n",
    "\n",
    "*Hint: The range of x in a binomial distribution is from `0` to `n`.*"
   ]
  },
  {
   "cell_type": "code",
   "execution_count": 5,
   "metadata": {},
   "outputs": [
    {
     "name": "stderr",
     "output_type": "stream",
     "text": [
      "\n",
      "Bad key \"text.kerning_factor\" on line 4 in\n",
      "C:\\Users\\joaop\\anaconda3\\lib\\site-packages\\matplotlib\\mpl-data\\stylelib\\_classic_test_patch.mplstyle.\n",
      "You probably need to get an updated matplotlibrc file from\n",
      "https://github.com/matplotlib/matplotlib/blob/v3.1.3/matplotlibrc.template\n",
      "or from the matplotlib source distribution\n"
     ]
    },
    {
     "data": {
      "image/png": "[encoded data removed]",
      "text/plain": [
       "<Figure size 432x288 with 1 Axes>"
      ]
     },
     "metadata": {
      "needs_background": "light"
     },
     "output_type": "display_data"
    }
   ],
   "source": [
    "# your code here\n",
    "# Please label the axes and give a title to the plot\n",
    "import matplotlib.pyplot as plt\n",
    "from scipy.stats import binom\n",
    "\n",
    "x=np.arange(0,n)\n",
    "\n",
    "plt.plot(x, binom.pmf(x,n,p), 'r+')\n",
    "\n",
    "plt.title(\"An amazing PDF plot by yours truly\")\n",
    "plt.xlabel(\"quant apples\")\n",
    "plt.ylabel(\"prob apples\")\n",
    "\n",
    "plt.show()"
   ]
  },
  {
   "cell_type": "markdown",
   "metadata": {},
   "source": [
    "## Poisson Distribution\n",
    "\n",
    "In this challenge you are required to use the Math library in python to solve the problems.\n",
    "\n",
    "In the UEFA champions league tournament, the average number of goals scored in a match is 2.3. \n",
    "\n",
    "**What is the probability that the number of goals scored in a match is 5?**\n",
    "\n",
    "*Hint: Use the exp() in the math library*\n",
    "\n",
    "And to calculate the factorial, you can use the following code:\n",
    "\n",
    "```python\n",
    "import math\n",
    "math.factorial(n) # n is the number you want to find the factorial of\n",
    "```"
   ]
  },
  {
   "cell_type": "code",
   "execution_count": 6,
   "metadata": {},
   "outputs": [
    {
     "name": "stdout",
     "output_type": "stream",
     "text": [
      "It is 0.054\n"
     ]
    }
   ],
   "source": [
    "# your code here\n",
    "import math\n",
    "math.factorial(n) # n is the number you want to find the factorial of\n",
    "μ=2.3\n",
    "number_goals=5\n",
    "\n",
    "prob=round(  ( math.exp(-μ)*μ **number_goals)  /  math.factorial(5) ,   3)\n",
    "\n",
    "print(f\"It is {prob}\")"
   ]
  },
  {
   "cell_type": "markdown",
   "metadata": {},
   "source": [
    "**Draw a poisson probability distribution plot for the number of goals to be between 0 to 10.**"
   ]
  },
  {
   "cell_type": "code",
   "execution_count": 10,
   "metadata": {},
   "outputs": [
    {
     "data": {
      "image/png": "[encoded data removed]",
      "text/plain": [
       "<Figure size 432x288 with 1 Axes>"
      ]
     },
     "metadata": {
      "needs_background": "light"
     },
     "output_type": "display_data"
    }
   ],
   "source": [
    "# your code here\n",
    "# Please label the axes and give a title to the plot\n",
    "from scipy.stats import poisson\n",
    "\n",
    "x=np.arange(0,10)\n",
    "\n",
    "plt.plot(x, poisson.pmf(x, μ), 'g+')\n",
    "\n",
    "plt.title(\"An amazing poisson plot by yours truly\")\n",
    "plt.xlabel(\"quant goals\")\n",
    "plt.ylabel(\"prob goals\")\n",
    "\n",
    "plt.show()"
   ]
  }
 ],
 "metadata": {
  "kernelspec": {
   "display_name": "Python 3",
   "language": "python",
   "name": "python3"
  },
  "language_info": {
   "codemirror_mode": {
    "name": "ipython",
    "version": 3
   },
   "file_extension": ".py",
   "mimetype": "text/x-python",
   "name": "python",
   "nbconvert_exporter": "python",
   "pygments_lexer": "ipython3",
   "version": "3.7.6"
  }
 },
 "nbformat": 4,
 "nbformat_minor": 2
}
